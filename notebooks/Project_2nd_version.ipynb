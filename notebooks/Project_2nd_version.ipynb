{
 "cells": [
  {
   "cell_type": "markdown",
   "id": "ee9cfbe8-ed8f-4a10-b26f-592af5f6c197",
   "metadata": {},
   "source": [
    "# Importing all the packages needed"
   ]
  },
  {
   "cell_type": "code",
   "execution_count": 1,
   "id": "e32bace1-9a2e-48b8-a197-72640d41af83",
   "metadata": {},
   "outputs": [
    {
     "name": "stdout",
     "output_type": "stream",
     "text": [
      "Intel MKL WARNING: Support of Intel(R) Streaming SIMD Extensions 4.2 (Intel(R) SSE4.2) enabled only processors has been deprecated. Intel oneAPI Math Kernel Library 2025.0 will require Intel(R) Advanced Vector Extensions (Intel(R) AVX) instructions.\n",
      "Intel MKL WARNING: Support of Intel(R) Streaming SIMD Extensions 4.2 (Intel(R) SSE4.2) enabled only processors has been deprecated. Intel oneAPI Math Kernel Library 2025.0 will require Intel(R) Advanced Vector Extensions (Intel(R) AVX) instructions.\n"
     ]
    }
   ],
   "source": [
    "import numpy as np\n",
    "import seaborn as sns\n",
    "import rdkit\n",
    "from rdkit import Chem \n",
    "from rdkit.Chem import Descriptors, Lipinski\n",
    "import pandas as pd\n",
    "from chembl_webresource_client.new_client import new_client"
   ]
  },
  {
   "cell_type": "code",
   "execution_count": 2,
   "id": "f1fe4e15-fb59-4978-8e97-4d7d96bf648c",
   "metadata": {},
   "outputs": [],
   "source": [
    "from sklearn.model_selection import train_test_split, cross_val_predict, cross_val_score, RandomizedSearchCV\n",
    "from sklearn.ensemble import RandomForestRegressor, GradientBoostingRegressor, RandomForestClassifier, GradientBoostingClassifier\n",
    "from sklearn.feature_selection import VarianceThreshold\n",
    "from sklearn.metrics import mean_squared_error, mean_absolute_error, r2_score, explained_variance_score, median_absolute_error, max_error\n",
    "from sklearn.preprocessing import StandardScaler\n",
    "from sklearn.neural_network import MLPRegressor\n",
    "from scipy.stats import randint, uniform\n",
    "import matplotlib.pyplot as plt\n",
    "import skorch\n",
    "from skorch import NeuralNetClassifier"
   ]
  },
  {
   "cell_type": "code",
   "execution_count": 3,
   "id": "e77369de-cee6-4cbe-bc01-6f65de7db2b4",
   "metadata": {},
   "outputs": [],
   "source": [
    "import torch # supprimable\n",
    "import torch.nn as nn\n",
    "import torch.optim as optim"
   ]
  },
  {
   "cell_type": "markdown",
   "id": "c47dcc63-e2bb-4cab-bb65-5ed81ae3e9ee",
   "metadata": {},
   "source": [
    "# Choosing the what is our Target protein: mTor is a good candidate"
   ]
  },
  {
   "cell_type": "code",
   "execution_count": 4,
   "id": "7d8815fd-5920-40b4-89cd-ba0898857b49",
   "metadata": {},
   "outputs": [],
   "source": [
    "target = new_client.target\n",
    "target_query = target.search('mTOR')\n",
    "possible_targets = pd.DataFrame.from_dict(target_query)\n",
    "possible_targets.head()\n",
    "target = possible_targets.target_chembl_id[3]"
   ]
  },
  {
   "cell_type": "code",
   "execution_count": 5,
   "id": "6af85b1c-7d5a-46b8-8ccc-f2650dfebf21",
   "metadata": {},
   "outputs": [],
   "source": [
    "activity = new_client.activity\n",
    "res = activity.filter(target_chembl_id=target).filter(standard_type=\"IC50\")\n",
    "df = pd.DataFrame.from_dict(res)\n"
   ]
  },
  {
   "cell_type": "markdown",
   "id": "25ab5cc9-0e07-4a5f-a0e0-e6fba1dac598",
   "metadata": {},
   "source": [
    "# Data cleaning & preparation"
   ]
  },
  {
   "cell_type": "markdown",
   "id": "a5c1b4a9-a184-4476-8f0d-485327d7eecf",
   "metadata": {},
   "source": [
    "## Keeping only interesting entries for our models and suppression of incomplete data "
   ]
  },
  {
   "cell_type": "code",
   "execution_count": 6,
   "id": "f3b4f445-dde3-44a4-b8cd-fc4e29a13e9a",
   "metadata": {},
   "outputs": [
    {
     "ename": "NameError",
     "evalue": "name 'data_cleaner' is not defined",
     "output_type": "error",
     "traceback": [
      "\u001b[0;31m---------------------------------------------------------------------------\u001b[0m",
      "\u001b[0;31mNameError\u001b[0m                                 Traceback (most recent call last)",
      "Cell \u001b[0;32mIn[6], line 1\u001b[0m\n\u001b[0;32m----> 1\u001b[0m df_clean \u001b[38;5;241m=\u001b[39m \u001b[43mdata_cleaner\u001b[49m(df)\n\u001b[1;32m      2\u001b[0m df_clean\n",
      "\u001b[0;31mNameError\u001b[0m: name 'data_cleaner' is not defined"
     ]
    }
   ],
   "source": [
    "df_clean = data_cleaner(df)\n",
    "df_clean"
   ]
  },
  {
   "cell_type": "markdown",
   "id": "92bb8a05-e20d-4d9a-9971-7b3fec476d69",
   "metadata": {},
   "source": [
    "## Labeling of the bioactivity of the different molecules"
   ]
  },
  {
   "cell_type": "code",
   "execution_count": null,
   "id": "ee7aef7a-c891-4114-ab28-bb960691c6a7",
   "metadata": {},
   "outputs": [],
   "source": [
    "df_label = add_bioactivity(df_clean)\n",
    "df_label"
   ]
  },
  {
   "cell_type": "markdown",
   "id": "4dd5d707-eaaa-4b12-9bf8-af6a657ebafb",
   "metadata": {},
   "source": [
    "## Definition of the Lipinski descriptor"
   ]
  },
  {
   "cell_type": "code",
   "execution_count": null,
   "id": "4d989149-777f-4fc9-b798-be47bb2aaf05",
   "metadata": {},
   "outputs": [],
   "source": [
    "df_lipinski = lipinski_df(df_label)\n",
    "df_lipinski"
   ]
  },
  {
   "cell_type": "code",
   "execution_count": null,
   "id": "e8eb04e3-af36-43e6-9f54-af3b141e40a5",
   "metadata": {},
   "outputs": [],
   "source": [
    "plt.figure(figsize=(5.5, 5.5))\n",
    "#sns.color_palette(\"flare\")\n",
    "sns.countplot(x='Bioactivity', hue = 'Bioactivity', data=df_lipinski, edgecolor='black', palette = \"flare\")\n",
    "\n",
    "plt.xlabel('Bioactivity', fontsize=14, fontweight='bold')\n",
    "plt.ylabel('Frequency', fontsize=14, fontweight='bold')\n",
    "\n",
    "descriptors = ['Mw', 'H donors', 'H acceptors', 'Log P']\n",
    "sns.pairplot(df_lipinski[descriptors + ['Bioactivity']], hue=\"Bioactivity\", palette = \"flare\")"
   ]
  },
  {
   "cell_type": "markdown",
   "id": "205f7132-afdc-4586-9937-a50c19728cc2",
   "metadata": {},
   "source": [
    "It is visible that the inactive and partially active labeled molecule share a huge overlap, using the Lipinski descriptors may not offer the best features to separate them."
   ]
  },
  {
   "cell_type": "markdown",
   "id": "5c00cddd-1be7-4ce2-be5c-ec27d8ed3e41",
   "metadata": {},
   "source": [
    "The number of Lipinski descriptors is limited and so even if we began with them, we decided to the rdkit package and its descriptors which are more than 200"
   ]
  },
  {
   "cell_type": "markdown",
   "id": "06080f0c-104c-486d-a448-7f39e37c7e69",
   "metadata": {},
   "source": [
    "## Definition of the rdkit descriptor"
   ]
  },
  {
   "cell_type": "code",
   "execution_count": null,
   "id": "a88a99b7-b099-4d85-aa97-1d26aafb3d49",
   "metadata": {},
   "outputs": [],
   "source": [
    "df_descriptor = descriptor_df(df_label)"
   ]
  },
  {
   "cell_type": "code",
   "execution_count": null,
   "id": "0da747e0-8319-4c86-ba11-afb563ffe687",
   "metadata": {},
   "outputs": [],
   "source": [
    "df_descriptor"
   ]
  },
  {
   "cell_type": "markdown",
   "id": "4fb29fc8-73c3-4ff6-b264-360d1323d090",
   "metadata": {},
   "source": [
    "# Data preparation for the models:"
   ]
  },
  {
   "cell_type": "code",
   "execution_count": null,
   "id": "cedb49ea-196c-4e5e-81ef-15c9d32bd757",
   "metadata": {},
   "outputs": [],
   "source": [
    "X_train, X_test, Y_train, Y_test= data_prep(df_descriptor)\n",
    "\n",
    "np.random.seed(100) "
   ]
  },
  {
   "cell_type": "markdown",
   "id": "749d02b1-1fe4-4958-9be8-46180a01d97a",
   "metadata": {},
   "source": [
    "# Model Construction and Optimization"
   ]
  },
  {
   "cell_type": "markdown",
   "id": "68523320-0052-4282-bbfb-746e82f2e515",
   "metadata": {},
   "source": [
    "## Classification model"
   ]
  },
  {
   "cell_type": "markdown",
   "id": "e8cb4af5-f3a0-41fc-8e32-02bd3b9f9f99",
   "metadata": {},
   "source": [
    "### Optimization of the Full-Connected Neural Network"
   ]
  },
  {
   "cell_type": "code",
   "execution_count": 36,
   "id": "68109798-bbc9-4c87-b9ad-3b9bb37ce406",
   "metadata": {},
   "outputs": [
    {
     "name": "stdout",
     "output_type": "stream",
     "text": [
      "Test Accuracy: 0.8441273326015367\n",
      "Test Precision: 0.8372063033984013\n",
      "Test Recall: 0.8441273326015367\n",
      "Test F1 Score: 0.8402229693005815\n",
      "Confusion Matrix:\n",
      " [[ 67  20  16]\n",
      " [ 21  56  43]\n",
      " [ 14  28 646]]\n",
      "Classification Report:\n",
      "               precision    recall  f1-score   support\n",
      "\n",
      "          -1       0.66      0.65      0.65       103\n",
      "           0       0.54      0.47      0.50       120\n",
      "           1       0.92      0.94      0.93       688\n",
      "\n",
      "    accuracy                           0.84       911\n",
      "   macro avg       0.70      0.69      0.69       911\n",
      "weighted avg       0.84      0.84      0.84       911\n",
      "\n"
     ]
    },
    {
     "data": {
      "image/png": "[encoded data removed]",
      "text/plain": [
       "<Figure size 480x480 with 2 Axes>"
      ]
     },
     "metadata": {},
     "output_type": "display_data"
    },
    {
     "name": "stdout",
     "output_type": "stream",
     "text": [
      "Best Hyperparameters for Feedforward Neural Network: {'activation': 'relu', 'alpha': 0.45055420204434604, 'learning_rate_init': 0.0023132311548267866}\n",
      "Best Parameters {'activation': 'relu', 'alpha': 0.45055420204434604, 'learning_rate_init': 0.0023132311548267866} Test accuracy: 0.8441273326015367\n"
     ]
    }
   ],
   "source": [
    "best_params_fcn,test_accuracy_fcn = optimize_hyperparameters_random_search(df_descriptor, 'fcn')\n",
    "print(\"Best Hyperparameters for Feedforward Neural Network:\", best_params_fcn)\n",
    "print(\"Best Parameters\", best_params_fcn,\"Test accuracy:\",test_accuracy_fcn)"
   ]
  },
  {
   "cell_type": "markdown",
   "id": "3a4fc6f1-0abd-482f-b57f-0e14ce4e426d",
   "metadata": {},
   "source": [
    "### Optimization of the RandomForest"
   ]
  },
  {
   "cell_type": "code",
   "execution_count": 37,
   "id": "840b7bc1-75b6-4d4f-ae35-8a8108e84c8c",
   "metadata": {},
   "outputs": [
    {
     "name": "stdout",
     "output_type": "stream",
     "text": [
      "Test Accuracy: 0.8375411635565313\n",
      "Test Precision: 0.8260485432091725\n",
      "Test Recall: 0.8375411635565313\n",
      "Test F1 Score: 0.828329247296322\n",
      "Confusion Matrix:\n",
      " [[ 81   9  45]\n",
      " [ 12  43  45]\n",
      " [ 12  25 639]]\n",
      "Classification Report:\n",
      "               precision    recall  f1-score   support\n",
      "\n",
      "          -1       0.77      0.60      0.68       135\n",
      "           0       0.56      0.43      0.49       100\n",
      "           1       0.88      0.95      0.91       676\n",
      "\n",
      "    accuracy                           0.84       911\n",
      "   macro avg       0.74      0.66      0.69       911\n",
      "weighted avg       0.83      0.84      0.83       911\n",
      "\n"
     ]
    },
    {
     "data": {
      "image/png": "[encoded data removed]",
      "text/plain": [
       "<Figure size 480x480 with 2 Axes>"
      ]
     },
     "metadata": {},
     "output_type": "display_data"
    },
    {
     "name": "stdout",
     "output_type": "stream",
     "text": [
      "Best Hyperparameters for Feedforward Neural Network: {'max_depth': 48, 'min_samples_leaf': 3, 'min_samples_split': 6, 'n_estimators': 406}\n",
      "Best Parameters {'max_depth': 48, 'min_samples_leaf': 3, 'min_samples_split': 6, 'n_estimators': 406} Test accuracy: 0.8375411635565313\n"
     ]
    }
   ],
   "source": [
    "best_params_rf,test_accuracy_rf = optimize_hyperparameters_random_search(df_descriptor, 'rf')\n",
    "print(\"Best Hyperparameters for RF:\", best_params_rf)\n",
    "print(\"Best Parameters\", best_params_rf,\"Test accuracy:\",test_accuracy_rf)"
   ]
  },
  {
   "cell_type": "markdown",
   "id": "00b1a85e-d877-4216-8206-ab6197c8bf39",
   "metadata": {},
   "source": [
    "### Optimization of the Gradient Boosting"
   ]
  },
  {
   "cell_type": "code",
   "execution_count": 38,
   "id": "0dbb648d-2423-4152-b081-09ec363816c3",
   "metadata": {},
   "outputs": [
    {
     "name": "stdout",
     "output_type": "stream",
     "text": [
      "Test Accuracy: 0.8737650933040615\n",
      "Test Precision: 0.8673019123410753\n",
      "Test Recall: 0.8737650933040615\n",
      "Test F1 Score: 0.8698531032237976\n",
      "Confusion Matrix:\n",
      " [[ 74  14  21]\n",
      " [ 14  54  34]\n",
      " [ 11  21 668]]\n",
      "Classification Report:\n",
      "               precision    recall  f1-score   support\n",
      "\n",
      "          -1       0.75      0.68      0.71       109\n",
      "           0       0.61      0.53      0.57       102\n",
      "           1       0.92      0.95      0.94       700\n",
      "\n",
      "    accuracy                           0.87       911\n",
      "   macro avg       0.76      0.72      0.74       911\n",
      "weighted avg       0.87      0.87      0.87       911\n",
      "\n"
     ]
    },
    {
     "data": {
      "image/png": "[encoded data removed]",
      "text/plain": [
       "<Figure size 480x480 with 2 Axes>"
      ]
     },
     "metadata": {},
     "output_type": "display_data"
    },
    {
     "name": "stdout",
     "output_type": "stream",
     "text": [
      "Best Hyperparameters for Feedforward Neural Network: {'learning_rate': 0.3290277424959528, 'max_depth': 6, 'min_samples_leaf': 7, 'min_samples_split': 10, 'n_estimators': 427}\n",
      "Best Parameters {'learning_rate': 0.3290277424959528, 'max_depth': 6, 'min_samples_leaf': 7, 'min_samples_split': 10, 'n_estimators': 427} Test accuracy: 0.8737650933040615\n"
     ]
    }
   ],
   "source": [
    "best_params_gbm,test_accuracy_gbm = optimize_hyperparameters_random_search(df_descriptor, 'gbm')\n",
    "print(\"Best Hyperparameters for GBM:\", best_params_gbm)\n",
    "print(\"Best Parameters\", best_params_gbm,\"Test accuracy:\",test_accuracy_gbm)"
   ]
  },
  {
   "cell_type": "markdown",
   "id": "1f22d061-d896-479e-a5e5-1199b41b00ff",
   "metadata": {},
   "source": [
    "# Construction of the Ensemble Model"
   ]
  },
  {
   "cell_type": "code",
   "execution_count": null,
   "id": "98f7ed1d-d2bf-41e2-bcad-775ba0150082",
   "metadata": {},
   "outputs": [],
   "source": [
    "#rf_param = RandomForestClassifier(**best_params_rf)\n",
    "#Best Parameters {'max_depth': 48, 'min_samples_leaf': 3, 'min_samples_split': 6, 'n_estimators': 406} \n",
    "rf_param = {'max_depth': 48, 'min_samples_leaf': 3, 'min_samples_split': 6, 'n_estimators': 406} \n",
    "\n",
    "\n",
    "#gbm_param = GradientBoostingClassifier(**best_params_gbm)\n",
    "#Best Parameters {'learning_rate': 0.3290277424959528, 'max_depth': 6, 'min_samples_leaf': 7, 'min_samples_split': 10, 'n_estimators': 427}\n",
    "gbm_param = {'learning_rate': 0.3290277424959528, 'max_depth': 6, 'min_samples_leaf': 7, 'min_samples_split': 10, 'n_estimators': 427}\n",
    "#Test accuracy: 0.8737650933040615\n",
    "\n",
    "\n",
    "#fcn_params = best_params_fcn\n",
    "#Best Parameters {'activation': 'relu', 'alpha': 0.45055420204434604, 'learning_rate_init': 0.0023132311548267866} \n",
    "fcn_params = {'activation': 'relu', 'alpha': 0.45055420204434604, 'learning_rate_init': 0.0023132311548267866}\n",
    "#Test accuracy: 0.8441273326015367\n",
    "\n",
    "rf = RandomForestClassifier(**rf_param)\n",
    "rf.fit(X_train, Y_train)\n",
    "pred_rf = rf.predict_proba(X_test)[:, 1]\n",
    "\n",
    "gbm = GradientBoostingClassifier(**gbm_param)\n",
    "gbm.fit(X_train, Y_train)\n",
    "pred_gbm = gbm.predict_proba(X_test)[:, 1]\n",
    "\n",
    "activation_mapping = {\n",
    "    'relu': nn.ReLU(),\n",
    "}\n",
    "\n",
    "class FCNN(nn.Module):\n",
    "    def __init__(self, input_dim, activation):\n",
    "        super(FCNN, self).__init__()\n",
    "        self.fc1 = nn.Linear(input_dim, 64)\n",
    "        self.fc2 = nn.Linear(64, 32)\n",
    "        self.fc3 = nn.Linear(32, 1)\n",
    "        self.activation = activation\n",
    "    \n",
    "    def forward(self, x):\n",
    "        x = self.activation(self.fc1(x))\n",
    "        x = self.activation(self.fc2(x))\n",
    "        x = torch.sigmoid(self.fc3(x))\n",
    "        return x\n",
    "\n",
    "net = NeuralNetClassifier(\n",
    "    module=FCNN,\n",
    "    module__input_dim=X_train.shape[1],\n",
    "    module__activation=activation_mapping[fcn_params['activation']],\n",
    "    max_epochs=50,\n",
    "    lr=fcn_params['learning_rate_init'],\n",
    "    batch_size=32,\n",
    "    optimizer=optim.Adam,\n",
    "    criterion=nn.BCELoss,\n",
    "    iterator_train__shuffle=True,\n",
    "    verbose=0\n",
    ")\n",
    "\n",
    "net.fit(X_train.astype(np.float32), Y_train.astype(np.int64))\n",
    "pred_fcnn = net.predict_proba(X_test.astype(np.float32))[:, 1]\n",
    "\n",
    "ensemble_pred = (pred_rf + pred_gbm + pred_fcnn) / 3\n",
    "ensemble_pred_class = (ensemble_pred > 0.5).astype(int)\n",
    "\n",
    "accuracy = accuracy_score(y, ensemble_pred_class)\n",
    "print(f'Ensemble Model Accuracy: {accuracy:.2f}')\n"
   ]
  },
  {
   "cell_type": "code",
   "execution_count": null,
   "id": "e831c49c-dad3-4878-885e-7b6228432bde",
   "metadata": {},
   "outputs": [],
   "source": [
    "#rf_param = RandomForestClassifier(**best_params_rf)\n",
    "#Best Parameters {'max_depth': 48, 'min_samples_leaf': 3, 'min_samples_split': 6, 'n_estimators': 406} \n",
    "rf_param = {'max_depth': 48, 'min_samples_leaf': 3, 'min_samples_split': 6, 'n_estimators': 406} \n",
    "\n",
    "rf = RandomForestClassifier(**rf_param)\n",
    "rf.fit(X_train, Y_train)\n",
    "pred_rf = rf.predict(X_test)[:, 1]"
   ]
  },
  {
   "cell_type": "code",
   "execution_count": null,
   "id": "218ae717-7bb7-41fd-ac76-45242bc00a8c",
   "metadata": {},
   "outputs": [],
   "source": []
  },
  {
   "cell_type": "code",
   "execution_count": null,
   "id": "f37e662a-1f06-4c95-9386-136e232cc530",
   "metadata": {},
   "outputs": [],
   "source": [
    "import numpy as np # Supprimable\n",
    "import pandas as pd\n",
    "import seaborn as sns\n",
    "import matplotlib.pyplot as plt\n",
    "\n",
    "cm = np.array([[74, 14, 21],\n",
    "               [14, 54, 34],\n",
    "               [11, 21, 668]])\n",
    "\n",
    "cm_normalized = cm.astype('float') / cm.sum(axis=1)[:, np.newaxis]\n",
    "\n",
    "cm_df = pd.DataFrame(cm_normalized, index=['Class 0', 'Class 1', 'Class 2'], columns=['Pred 0', 'Pred 1', 'Pred 2'])\n",
    "\n",
    "plt.figure(figsize=(10, 7))\n",
    "sns.heatmap(cm_df, annot=True, fmt='.2%', cmap='Blues')\n",
    "plt.title('Confusion Matrix (Normalized by Rows)')\n",
    "plt.ylabel('True label')\n",
    "plt.xlabel('Predicted label')\n",
    "plt.show()\n"
   ]
  },
  {
   "cell_type": "markdown",
   "id": "4b0e25fb-02f1-4635-9970-a846491706bd",
   "metadata": {},
   "source": [
    "## definition of the functions"
   ]
  },
  {
   "cell_type": "code",
   "execution_count": null,
   "id": "da52bee1-65c4-40d3-99d8-c25be050b508",
   "metadata": {},
   "outputs": [],
   "source": [
    "##### DEFINITION OF A FUNCTION ####\n",
    "\n",
    "def data_cleaner(dataframe):\n",
    "    \"\"\"\n",
    "    dataframe: dataframe of all the candidate proteins \n",
    "\n",
    "    The function only keep the entries of interest: 'molecule_chembl_id','canonical_smiles','standard_value'\n",
    "    and also get rid of the incomplete data\n",
    "    \n",
    "    \"\"\" \n",
    "    dataframe = dataframe = dataframe[['molecule_chembl_id','canonical_smiles','standard_value']]\n",
    "    dataframe_cleaned = dataframe[dataframe.standard_value.notna()]\n",
    "    dataframe_cleaned = dataframe_cleaned[dataframe.canonical_smiles.notna()]\n",
    "    dataframe_cleaned = dataframe_cleaned.drop_duplicates(['canonical_smiles'])\n",
    "    \n",
    "    return dataframe_cleaned\n",
    "\n",
    "##### DEFINITION OF A FUNCTION ####\n",
    "\n",
    "def add_bioactivity(dataframe):\n",
    "    \"\"\"\n",
    "    dataframe: (cleaned) dataframe of all the candidate proteins \n",
    "\n",
    "    The function labels the molecules as inactive, partialy active or active depending on their standard value\n",
    "    \"\"\" \n",
    "    bioactivity = []\n",
    "    for i in dataframe.standard_value:\n",
    "      if float(i) >= 10000:\n",
    "        bioactivity.append(0) #inactive\n",
    "      elif float(i) <= 1000:\n",
    "        bioactivity.append(2) #active\n",
    "      else:\n",
    "        bioactivity.append(1) #depends\n",
    "    dataframe['Bioactivity'] = bioactivity\n",
    "    dataframe.reset_index(drop=True, inplace=True)\n",
    "    return dataframe\n",
    "\n",
    "\n",
    "##### DEFINITION OF A FUNCTION ####\n",
    "\n",
    "def lipinski(smiles):\n",
    "    \"\"\"\n",
    "    smile: smile (column) \n",
    "\n",
    "    The function calculate the Lipinski descriptors from the smiles, the Lipinski descriptors are the MW, the LogP (solubility),\n",
    "    the number of H donors and the number of H acceptors\n",
    "    \n",
    "    \"\"\" \n",
    "\n",
    "    \n",
    "    molec = []\n",
    "    for i in smiles:\n",
    "        mol = Chem.MolFromSmiles(i) \n",
    "        molec.append(mol)\n",
    "\n",
    "    MW = []\n",
    "    LogP = []\n",
    "    NHDonors = []\n",
    "    NHAcceptors = []\n",
    "\n",
    "    for n in molec:        \n",
    "        MW.append(Descriptors.MolWt(n))\n",
    "        LogP.append(Descriptors.MolLogP(n))\n",
    "        NHDonors.append(Lipinski.NumHDonors(n))\n",
    "        NHAcceptors.append(Lipinski.NumHAcceptors(n))\n",
    "        \n",
    "    desc_data = pd.DataFrame({\n",
    "        \"Mw\": MW,\n",
    "        \"H donors\": NHDonors,\n",
    "        \"H acceptors\": NHAcceptors,\n",
    "        \"Log P\": LogP\n",
    "    })\n",
    "    \n",
    "    return desc_data\n",
    "\n",
    "def norm_value(input):\n",
    "    \"\"\"\n",
    "    input: clean dataframe of the candidate molecules \n",
    "\n",
    "    The function cnormalize the standard value \n",
    "    \n",
    "    \"\"\" \n",
    "    \n",
    "    norm = []\n",
    "\n",
    "    for i in input['standard_value']:\n",
    "        if i > 100000000:\n",
    "            i = 100000000\n",
    "        norm.append(i)\n",
    "\n",
    "    input['standard_value_norm'] = norm\n",
    "    x = input.drop(columns=['standard_value'])  # Drop the 'standard_value' column\n",
    "\n",
    "    return x\n",
    "\n",
    "def pIC50(input):\n",
    "    \"\"\"\n",
    "    input: clean dataframe of the candidate molecules \n",
    "\n",
    "    The function calculate and add the pIC50 (a measure of bioactivity)\n",
    "    \n",
    "    \"\"\" \n",
    "    \n",
    "    if 'standard_value_norm' not in input.columns:\n",
    "        raise ValueError(\"Column 'standard_value_norm' does not exist in the DataFrame.\")\n",
    "\n",
    "    pIC50 = []\n",
    "\n",
    "    for i in input['standard_value_norm']:\n",
    "        molar = i * (10**-9)  # Converts nM to M\n",
    "        pIC50.append(-np.log10(molar))\n",
    "\n",
    "    input['pIC50'] = pIC50\n",
    "    x = input.drop(columns=['standard_value_norm'])  # Drop the 'standard_value' column\n",
    "\n",
    "    return x\n",
    "\n",
    "\n",
    "def lipinski_df(dataframe):\n",
    "    \"\"\"\n",
    "    dataframe: clean dataframe of the candidate molecules \n",
    "\n",
    "    The function calculate and add the the Lipinski descriptors, normalize the standard values and the pIC50\n",
    "    \n",
    "    \"\"\" \n",
    "\n",
    "    \n",
    "    dataframe_lipinski = pd.concat([dataframe, lipinski(dataframe.canonical_smiles)], axis = 1)\n",
    "    dataframe_lipinski['standard_value'] = pd.to_numeric(dataframe_lipinski['standard_value'], errors='coerce')\n",
    "    dataframe_lipinski = dataframe_lipinski.loc[pd.notna(dataframe_lipinski['standard_value'])]\n",
    "    dataframe_lipinski = norm_value(dataframe_lipinski)\n",
    "    dataframe_lipinski = pIC50(dataframe_lipinski)\n",
    "\n",
    "    return dataframe_lipinski\n",
    "\n",
    "#### DEFINITION FUNCTION ####\n",
    "\n",
    "def descriptors(smiles):\n",
    "    \"\"\"\n",
    "    smile: smile (column) \n",
    "\n",
    "    The function calculate the rdkit descriptors from the smiles, the rdkit descriptors are composed of a lot of different descriptors\n",
    "    \n",
    "    \"\"\" \n",
    "    \n",
    "    mols = []\n",
    "\n",
    "    for i in smiles:\n",
    "        molec = Chem.MolFromSmiles(i)\n",
    "        mols.append(molec)\n",
    "    descrs = [Descriptors.CalcMolDescriptors(mol) for mol in mols]\n",
    "    df_descr = pd.DataFrame(descrs)\n",
    "\n",
    "    return df_descr\n",
    "\n",
    "def descriptor_df(dataframe):\n",
    "    \"\"\"\n",
    "    dataframe: clean dataframe of the candidate molecules \n",
    "\n",
    "    The function calculate and add the the rdkit descriptors, normalize the standard values and the pIC50\n",
    "    \n",
    "    \"\"\" \n",
    "\n",
    "\n",
    "    \n",
    "    dataframe_descriptors = pd.concat([dataframe, descriptors(dataframe.canonical_smiles)], axis = 1)\n",
    "    dataframe_descriptors['standard_value'] = pd.to_numeric(dataframe_descriptors['standard_value'], errors='coerce')\n",
    "    dataframe_descriptors = dataframe_descriptors.loc[pd.notna(dataframe_descriptors['standard_value'])]\n",
    "    dataframe_descriptors = norm_value(dataframe_descriptors)\n",
    "    dataframe_descriptors = pIC50(dataframe_descriptors)\n",
    "    \n",
    "    #dataframe_descriptors.replace([np.inf, -np.inf], np.nan, inplace=True)\n",
    "    dataframe_descriptors.dropna(inplace=True)\n",
    "    dataframe_descriptors.reset_index(drop=True, inplace=True)\n",
    "    \n",
    "    return dataframe_descriptors\n",
    "\n",
    "#### DEFINITION FUNCTION ####\n",
    "\n",
    "def data_prep(dataframe):\n",
    "    \n",
    "    dataframe = dataframe.drop('molecule_chembl_id', axis=1)\n",
    "    #dataframe = dataframe.drop('Bioactivity', axis=1)\n",
    "    dataframe = dataframe.drop('canonical_smiles', axis=1)\n",
    "\n",
    "    selection = VarianceThreshold(threshold=(.9 * (1 - .3)))\n",
    "\n",
    "    X = dataframe.drop('pIC50', axis=1)\n",
    "    X = selection.fit_transform(X)\n",
    "    Y = dataframe['Bioactivity']\n",
    "\n",
    "    X_train, X_test, Y_train, Y_test = data_split_scale(X,Y)\n",
    "\n",
    "    return X_train, X_test, Y_train, Y_test\n",
    "\n",
    "def data_split_scale(X,Y):\n",
    "    \n",
    "    X_train, X_test, Y_train, Y_test = train_test_split(X, Y, test_size=0.2)\n",
    "    scaler = StandardScaler().fit(X_train)\n",
    "    X_train = scaler.transform(X_train)\n",
    "    X_test = scaler.transform(X_test)\n",
    "    \n",
    "    return X_train, X_test, Y_train, Y_test\n",
    "\n",
    "#### DEFINITION FUNCTION ####\n",
    "\n",
    "\n",
    "def data_prep(dataframe):\n",
    "    \"\"\"\n",
    "    dataframe: clean dataframe of the candidate molecules with the descriptors\n",
    "\n",
    "    The function remove the 'molecule_chembl_id', 'pIC50' and 'canonical_smiles', it centers the labels around zero. It separates \n",
    "    the features in a 'X' matrix and the bioactivity label in a 'Y' vector. Also keep the features with a sufficient threshold and \n",
    "    then split the data into a training set and a test set.\n",
    "    \n",
    "    \"\"\" \n",
    "\n",
    "    \n",
    "    dataframe = dataframe.drop('molecule_chembl_id', axis=1)\n",
    "    dataframe = dataframe.drop('pIC50', axis=1)\n",
    "    dataframe = dataframe.drop('canonical_smiles', axis=1)\n",
    "    dataframe['Bioactivity'] = dataframe['Bioactivity'] - 1 \n",
    "\n",
    "\n",
    "    selection = VarianceThreshold(threshold=(.9 * (1 - .3)))\n",
    "\n",
    "    X = dataframe.drop('Bioactivity', axis=1)\n",
    "    X = selection.fit_transform(X)\n",
    "    Y = dataframe['Bioactivity']\n",
    "\n",
    "    X_train, X_test, Y_train, Y_test = data_split_scale(X,Y)\n",
    "\n",
    "    return X_train, X_test, Y_train, Y_test\n",
    "\n",
    "def data_split_scale(X,Y):\n",
    "    \"\"\"\n",
    "    X: features of the data\n",
    "    Y: label of the data\n",
    "\n",
    "    The function split the data into a test and a training set and scale the features on the training set.\n",
    "    \"\"\"\n",
    "    \n",
    "    X_train, X_test, Y_train, Y_test = train_test_split(X, Y, test_size=0.2)\n",
    "    scaler = StandardScaler().fit(X_train)\n",
    "    X_train = scaler.transform(X_train)\n",
    "    X_test = scaler.transform(X_test)\n",
    "    \n",
    "    return X_train, X_test, Y_train, Y_test\n",
    "\n",
    "\n",
    "def optimize_hyperparameters_random_search(dataframe, model_type):\n",
    "    \"\"\"\n",
    "    dataframe: clean dataframe of the candidate molecules with the descriptors\n",
    "    model_type: 'rf', 'gbm', or 'fcn'\n",
    "    \n",
    "\n",
    "    The function do the data preparation and then train the chosen model using a randomized search. The model is then evaluated \n",
    "    using the accuracy, the precision, the recall, the F1 Score and the confusion matrix.\n",
    "    The best parameter found are then returned.\n",
    "    \"\"\" \n",
    "\n",
    "    \n",
    "    X_train, X_test, y_train, y_test = data_prep(dataframe)\n",
    "    np.random.seed(100) \n",
    "\n",
    "    if model_type == 'rf':\n",
    "        model = RandomForestClassifier()\n",
    "        param_space = {\n",
    "            'n_estimators': randint(100, 500),\n",
    "            'max_depth': randint(5, 50),\n",
    "            'min_samples_split': randint(2, 20),\n",
    "            'min_samples_leaf': randint(1, 20),\n",
    "        }\n",
    "    elif model_type == 'gbm':\n",
    "        model = GradientBoostingClassifier()\n",
    "        param_space = {\n",
    "            'n_estimators': randint(100, 500),\n",
    "            'learning_rate': uniform(0.01, 0.49),\n",
    "            'max_depth': randint(3, 10),\n",
    "            'min_samples_split': randint(2, 20),\n",
    "            'min_samples_leaf': randint(1, 20),\n",
    "        }\n",
    "    elif model_type == 'fcn':\n",
    "        model = MLPClassifier(hidden_layer_sizes=(100,), solver='adam')\n",
    "        param_space = {\n",
    "            'activation': ['relu', 'tanh', 'logistic'],\n",
    "            'alpha': uniform(0.0001, 0.9999),\n",
    "            'learning_rate_init': uniform(0.001, 0.099),\n",
    "        }\n",
    "    else:\n",
    "        raise ValueError(\"Invalid model_type. Choose 'rf', 'gbm', or 'fcn'.\")\n",
    "\n",
    "    opt = RandomizedSearchCV(\n",
    "        estimator=model,\n",
    "        param_distributions=param_space,\n",
    "        n_iter=25,\n",
    "        cv=5,\n",
    "        n_jobs=-1,\n",
    "        scoring='accuracy',  # Optimize for accuracy\n",
    "        verbose=0,\n",
    "        random_state=42,\n",
    "    )\n",
    "\n",
    "    opt.fit(X_train, y_train)\n",
    "    best_params = opt.best_params_\n",
    "    best_model = opt.best_estimator_\n",
    "    y_pred = best_model.predict(X_test)\n",
    "    \n",
    "    # Evaluate the model\n",
    "    test_accuracy = accuracy_score(y_test, y_pred)\n",
    "    test_precision = precision_score(y_test, y_pred, average='weighted')\n",
    "    test_recall = recall_score(y_test, y_pred, average='weighted')\n",
    "    test_f1 = f1_score(y_test, y_pred, average='weighted')\n",
    "\n",
    "    print(\"Test Accuracy:\", test_accuracy)\n",
    "    print(\"Test Precision:\", test_precision)\n",
    "    print(\"Test Recall:\", test_recall)\n",
    "    print(\"Test F1 Score:\", test_f1)\n",
    "    print(\"Confusion Matrix:\\n\", confusion_matrix(y_test, y_pred))\n",
    "    print(\"Classification Report:\\n\", classification_report(y_test, y_pred))\n",
    "\n",
    "    # Plot confusion matrix\n",
    "    cm = confusion_matrix(y_test, y_pred)\n",
    "    plt.matshow(cm, cmap=plt.cm.Blues)\n",
    "    plt.title('Confusion Matrix')\n",
    "    plt.colorbar()\n",
    "    plt.ylabel('True label')\n",
    "    plt.xlabel('Predicted label')\n",
    "    plt.show()\n",
    "\n",
    "    return best_params, test_accuracy"
   ]
  },
  {
   "cell_type": "code",
   "execution_count": 4,
   "id": "6e99359f",
   "metadata": {},
   "outputs": [
    {
     "name": "stdout",
     "output_type": "stream",
     "text": [
      "Package                      Version\n",
      "---------------------------- -----------\n",
      "absl-py                      2.1.0\n",
      "altair                       5.3.0\n",
      "appnope                      0.1.4\n",
      "asttokens                    2.4.1\n",
      "astunparse                   1.6.3\n",
      "attrs                        23.2.0\n",
      "blinker                      1.8.2\n",
      "cachetools                   5.3.3\n",
      "cattrs                       23.2.3\n",
      "certifi                      2024.2.2\n",
      "charset-normalizer           3.3.2\n",
      "chembl-webresource-client    0.10.9\n",
      "click                        8.1.7\n",
      "comm                         0.2.2\n",
      "contourpy                    1.2.1\n",
      "cycler                       0.12.1\n",
      "debugpy                      1.8.1\n",
      "decorator                    5.1.1\n",
      "docutils                     0.21.2\n",
      "easydict                     1.13\n",
      "exceptiongroup               1.2.1\n",
      "executing                    2.0.1\n",
      "filelock                     3.14.0\n",
      "flatbuffers                  24.3.25\n",
      "fonttools                    4.51.0\n",
      "fsspec                       2024.5.0\n",
      "gast                         0.5.4\n",
      "gitdb                        4.0.11\n",
      "GitPython                    3.1.43\n",
      "google-pasta                 0.2.0\n",
      "grpcio                       1.63.0\n",
      "h5py                         3.11.0\n",
      "idna                         3.7\n",
      "importlib_metadata           7.1.0\n",
      "importlib_resources          6.4.0\n",
      "ipykernel                    6.29.3\n",
      "ipython                      8.18.1\n",
      "jedi                         0.19.1\n",
      "Jinja2                       3.1.4\n",
      "joblib                       1.4.2\n",
      "jsonschema                   4.22.0\n",
      "jsonschema-specifications    2023.12.1\n",
      "jupyter_client               8.6.1\n",
      "jupyter_core                 5.7.2\n",
      "keras                        3.3.3\n",
      "keras-tuner                  1.4.7\n",
      "kiwisolver                   1.4.5\n",
      "kt-legacy                    1.0.5\n",
      "libclang                     18.1.1\n",
      "Markdown                     3.6\n",
      "markdown-it-py               3.0.0\n",
      "MarkupSafe                   2.1.5\n",
      "matplotlib                   3.9.0\n",
      "matplotlib-inline            0.1.7\n",
      "mdurl                        0.1.2\n",
      "ml-dtypes                    0.3.2\n",
      "mpmath                       1.3.0\n",
      "namex                        0.0.8\n",
      "nest_asyncio                 1.6.0\n",
      "networkx                     3.2.1\n",
      "numpy                        1.26.4\n",
      "opt-einsum                   3.3.0\n",
      "optree                       0.11.0\n",
      "packaging                    24.0\n",
      "pandas                       2.2.2\n",
      "parso                        0.8.4\n",
      "pexpect                      4.9.0\n",
      "pickleshare                  0.7.5\n",
      "pillow                       10.3.0\n",
      "pip                          24.0\n",
      "platformdirs                 4.2.2\n",
      "prompt-toolkit               3.0.42\n",
      "protobuf                     4.25.3\n",
      "psutil                       5.9.8\n",
      "ptyprocess                   0.7.0\n",
      "pure-eval                    0.2.2\n",
      "pyarrow                      16.1.0\n",
      "pydeck                       0.9.1\n",
      "Pygments                     2.18.0\n",
      "pyparsing                    3.1.2\n",
      "python-dateutil              2.9.0.post0\n",
      "pytz                         2024.1\n",
      "pyzmq                        26.0.3\n",
      "rdkit                        2023.9.6\n",
      "referencing                  0.35.1\n",
      "requests                     2.31.0\n",
      "requests-cache               1.2.0\n",
      "rich                         13.7.1\n",
      "rpds-py                      0.18.1\n",
      "scikit-learn                 1.4.2\n",
      "scipy                        1.13.0\n",
      "seaborn                      0.13.2\n",
      "setuptools                   69.5.1\n",
      "six                          1.16.0\n",
      "skorch                       0.15.0\n",
      "smmap                        5.0.1\n",
      "stack-data                   0.6.2\n",
      "statistics                   1.0.3.5\n",
      "streamlit                    1.34.0\n",
      "streamlit-drawable-canvas    0.9.3\n",
      "streamlit-ketcher            0.0.1\n",
      "sympy                        1.12\n",
      "tabulate                     0.9.0\n",
      "tenacity                     8.3.0\n",
      "tensorboard                  2.16.2\n",
      "tensorboard-data-server      0.7.2\n",
      "tensorflow                   2.16.1\n",
      "tensorflow-io-gcs-filesystem 0.37.0\n",
      "termcolor                    2.4.0\n",
      "threadpoolctl                3.5.0\n",
      "toml                         0.10.2\n",
      "toolz                        0.12.1\n",
      "torch                        2.3.0\n",
      "tornado                      6.4\n",
      "tqdm                         4.66.4\n",
      "traitlets                    5.14.3\n",
      "typing_extensions            4.11.0\n",
      "tzdata                       2024.1\n",
      "url-normalize                1.4.3\n",
      "urllib3                      2.2.1\n",
      "wcwidth                      0.2.13\n",
      "Werkzeug                     3.0.3\n",
      "wheel                        0.43.0\n",
      "wrapt                        1.16.0\n",
      "zipp                         3.18.2\n"
     ]
    }
   ],
   "source": [
    "!pip list"
   ]
  }
 ],
 "metadata": {
  "kernelspec": {
   "display_name": "Python 3 (ipykernel)",
   "language": "python",
   "name": "python3"
  },
  "language_info": {
   "codemirror_mode": {
    "name": "ipython",
    "version": 3
   },
   "file_extension": ".py",
   "mimetype": "text/x-python",
   "name": "python",
   "nbconvert_exporter": "python",
   "pygments_lexer": "ipython3",
   "version": "3.9.0"
  }
 },
 "nbformat": 4,
 "nbformat_minor": 5
}
